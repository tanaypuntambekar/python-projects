{
 "cells": [
  {
   "cell_type": "code",
   "execution_count": 1,
   "id": "53f034de",
   "metadata": {},
   "outputs": [],
   "source": [
    "# Importig Required Libraries\n",
    "\n",
    "import pandas as pd\n",
    "import numpy as np\n",
    "import matplotlib.pyplot as plt"
   ]
  },
  {
   "cell_type": "code",
   "execution_count": 2,
   "id": "e24c3876",
   "metadata": {},
   "outputs": [],
   "source": [
    "# Reading the Data file\n",
    "\n",
    "df = pd.read_csv('train.csv')"
   ]
  },
  {
   "cell_type": "code",
   "execution_count": 3,
   "id": "f029eccb",
   "metadata": {
    "scrolled": true
   },
   "outputs": [
    {
     "data": {
      "text/html": [
       "<div>\n",
       "<style scoped>\n",
       "    .dataframe tbody tr th:only-of-type {\n",
       "        vertical-align: middle;\n",
       "    }\n",
       "\n",
       "    .dataframe tbody tr th {\n",
       "        vertical-align: top;\n",
       "    }\n",
       "\n",
       "    .dataframe thead th {\n",
       "        text-align: right;\n",
       "    }\n",
       "</style>\n",
       "<table border=\"1\" class=\"dataframe\">\n",
       "  <thead>\n",
       "    <tr style=\"text-align: right;\">\n",
       "      <th></th>\n",
       "      <th>Row ID</th>\n",
       "      <th>Order ID</th>\n",
       "      <th>Order Date</th>\n",
       "      <th>Ship Date</th>\n",
       "      <th>Ship Mode</th>\n",
       "      <th>Customer ID</th>\n",
       "      <th>Customer Name</th>\n",
       "      <th>Segment</th>\n",
       "      <th>Country</th>\n",
       "      <th>City</th>\n",
       "      <th>State</th>\n",
       "      <th>Postal Code</th>\n",
       "      <th>Region</th>\n",
       "      <th>Product ID</th>\n",
       "      <th>Category</th>\n",
       "      <th>Sub-Category</th>\n",
       "      <th>Product Name</th>\n",
       "      <th>Sales</th>\n",
       "    </tr>\n",
       "  </thead>\n",
       "  <tbody>\n",
       "    <tr>\n",
       "      <th>0</th>\n",
       "      <td>1</td>\n",
       "      <td>CA-2017-152156</td>\n",
       "      <td>08/11/2017</td>\n",
       "      <td>11/11/2017</td>\n",
       "      <td>Second Class</td>\n",
       "      <td>CG-12520</td>\n",
       "      <td>Claire Gute</td>\n",
       "      <td>Consumer</td>\n",
       "      <td>United States</td>\n",
       "      <td>Henderson</td>\n",
       "      <td>Kentucky</td>\n",
       "      <td>42420.0</td>\n",
       "      <td>South</td>\n",
       "      <td>FUR-BO-10001798</td>\n",
       "      <td>Furniture</td>\n",
       "      <td>Bookcases</td>\n",
       "      <td>Bush Somerset Collection Bookcase</td>\n",
       "      <td>261.9600</td>\n",
       "    </tr>\n",
       "    <tr>\n",
       "      <th>1</th>\n",
       "      <td>2</td>\n",
       "      <td>CA-2017-152156</td>\n",
       "      <td>08/11/2017</td>\n",
       "      <td>11/11/2017</td>\n",
       "      <td>Second Class</td>\n",
       "      <td>CG-12520</td>\n",
       "      <td>Claire Gute</td>\n",
       "      <td>Consumer</td>\n",
       "      <td>United States</td>\n",
       "      <td>Henderson</td>\n",
       "      <td>Kentucky</td>\n",
       "      <td>42420.0</td>\n",
       "      <td>South</td>\n",
       "      <td>FUR-CH-10000454</td>\n",
       "      <td>Furniture</td>\n",
       "      <td>Chairs</td>\n",
       "      <td>Hon Deluxe Fabric Upholstered Stacking Chairs,...</td>\n",
       "      <td>731.9400</td>\n",
       "    </tr>\n",
       "    <tr>\n",
       "      <th>2</th>\n",
       "      <td>3</td>\n",
       "      <td>CA-2017-138688</td>\n",
       "      <td>12/06/2017</td>\n",
       "      <td>16/06/2017</td>\n",
       "      <td>Second Class</td>\n",
       "      <td>DV-13045</td>\n",
       "      <td>Darrin Van Huff</td>\n",
       "      <td>Corporate</td>\n",
       "      <td>United States</td>\n",
       "      <td>Los Angeles</td>\n",
       "      <td>California</td>\n",
       "      <td>90036.0</td>\n",
       "      <td>West</td>\n",
       "      <td>OFF-LA-10000240</td>\n",
       "      <td>Office Supplies</td>\n",
       "      <td>Labels</td>\n",
       "      <td>Self-Adhesive Address Labels for Typewriters b...</td>\n",
       "      <td>14.6200</td>\n",
       "    </tr>\n",
       "    <tr>\n",
       "      <th>3</th>\n",
       "      <td>4</td>\n",
       "      <td>US-2016-108966</td>\n",
       "      <td>11/10/2016</td>\n",
       "      <td>18/10/2016</td>\n",
       "      <td>Standard Class</td>\n",
       "      <td>SO-20335</td>\n",
       "      <td>Sean O'Donnell</td>\n",
       "      <td>Consumer</td>\n",
       "      <td>United States</td>\n",
       "      <td>Fort Lauderdale</td>\n",
       "      <td>Florida</td>\n",
       "      <td>33311.0</td>\n",
       "      <td>South</td>\n",
       "      <td>FUR-TA-10000577</td>\n",
       "      <td>Furniture</td>\n",
       "      <td>Tables</td>\n",
       "      <td>Bretford CR4500 Series Slim Rectangular Table</td>\n",
       "      <td>957.5775</td>\n",
       "    </tr>\n",
       "    <tr>\n",
       "      <th>4</th>\n",
       "      <td>5</td>\n",
       "      <td>US-2016-108966</td>\n",
       "      <td>11/10/2016</td>\n",
       "      <td>18/10/2016</td>\n",
       "      <td>Standard Class</td>\n",
       "      <td>SO-20335</td>\n",
       "      <td>Sean O'Donnell</td>\n",
       "      <td>Consumer</td>\n",
       "      <td>United States</td>\n",
       "      <td>Fort Lauderdale</td>\n",
       "      <td>Florida</td>\n",
       "      <td>33311.0</td>\n",
       "      <td>South</td>\n",
       "      <td>OFF-ST-10000760</td>\n",
       "      <td>Office Supplies</td>\n",
       "      <td>Storage</td>\n",
       "      <td>Eldon Fold 'N Roll Cart System</td>\n",
       "      <td>22.3680</td>\n",
       "    </tr>\n",
       "    <tr>\n",
       "      <th>5</th>\n",
       "      <td>6</td>\n",
       "      <td>CA-2015-115812</td>\n",
       "      <td>09/06/2015</td>\n",
       "      <td>14/06/2015</td>\n",
       "      <td>Standard Class</td>\n",
       "      <td>BH-11710</td>\n",
       "      <td>Brosina Hoffman</td>\n",
       "      <td>Consumer</td>\n",
       "      <td>United States</td>\n",
       "      <td>Los Angeles</td>\n",
       "      <td>California</td>\n",
       "      <td>90032.0</td>\n",
       "      <td>West</td>\n",
       "      <td>FUR-FU-10001487</td>\n",
       "      <td>Furniture</td>\n",
       "      <td>Furnishings</td>\n",
       "      <td>Eldon Expressions Wood and Plastic Desk Access...</td>\n",
       "      <td>48.8600</td>\n",
       "    </tr>\n",
       "    <tr>\n",
       "      <th>6</th>\n",
       "      <td>7</td>\n",
       "      <td>CA-2015-115812</td>\n",
       "      <td>09/06/2015</td>\n",
       "      <td>14/06/2015</td>\n",
       "      <td>Standard Class</td>\n",
       "      <td>BH-11710</td>\n",
       "      <td>Brosina Hoffman</td>\n",
       "      <td>Consumer</td>\n",
       "      <td>United States</td>\n",
       "      <td>Los Angeles</td>\n",
       "      <td>California</td>\n",
       "      <td>90032.0</td>\n",
       "      <td>West</td>\n",
       "      <td>OFF-AR-10002833</td>\n",
       "      <td>Office Supplies</td>\n",
       "      <td>Art</td>\n",
       "      <td>Newell 322</td>\n",
       "      <td>7.2800</td>\n",
       "    </tr>\n",
       "    <tr>\n",
       "      <th>7</th>\n",
       "      <td>8</td>\n",
       "      <td>CA-2015-115812</td>\n",
       "      <td>09/06/2015</td>\n",
       "      <td>14/06/2015</td>\n",
       "      <td>Standard Class</td>\n",
       "      <td>BH-11710</td>\n",
       "      <td>Brosina Hoffman</td>\n",
       "      <td>Consumer</td>\n",
       "      <td>United States</td>\n",
       "      <td>Los Angeles</td>\n",
       "      <td>California</td>\n",
       "      <td>90032.0</td>\n",
       "      <td>West</td>\n",
       "      <td>TEC-PH-10002275</td>\n",
       "      <td>Technology</td>\n",
       "      <td>Phones</td>\n",
       "      <td>Mitel 5320 IP Phone VoIP phone</td>\n",
       "      <td>907.1520</td>\n",
       "    </tr>\n",
       "    <tr>\n",
       "      <th>8</th>\n",
       "      <td>9</td>\n",
       "      <td>CA-2015-115812</td>\n",
       "      <td>09/06/2015</td>\n",
       "      <td>14/06/2015</td>\n",
       "      <td>Standard Class</td>\n",
       "      <td>BH-11710</td>\n",
       "      <td>Brosina Hoffman</td>\n",
       "      <td>Consumer</td>\n",
       "      <td>United States</td>\n",
       "      <td>Los Angeles</td>\n",
       "      <td>California</td>\n",
       "      <td>90032.0</td>\n",
       "      <td>West</td>\n",
       "      <td>OFF-BI-10003910</td>\n",
       "      <td>Office Supplies</td>\n",
       "      <td>Binders</td>\n",
       "      <td>DXL Angle-View Binders with Locking Rings by S...</td>\n",
       "      <td>18.5040</td>\n",
       "    </tr>\n",
       "    <tr>\n",
       "      <th>9</th>\n",
       "      <td>10</td>\n",
       "      <td>CA-2015-115812</td>\n",
       "      <td>09/06/2015</td>\n",
       "      <td>14/06/2015</td>\n",
       "      <td>Standard Class</td>\n",
       "      <td>BH-11710</td>\n",
       "      <td>Brosina Hoffman</td>\n",
       "      <td>Consumer</td>\n",
       "      <td>United States</td>\n",
       "      <td>Los Angeles</td>\n",
       "      <td>California</td>\n",
       "      <td>90032.0</td>\n",
       "      <td>West</td>\n",
       "      <td>OFF-AP-10002892</td>\n",
       "      <td>Office Supplies</td>\n",
       "      <td>Appliances</td>\n",
       "      <td>Belkin F5C206VTEL 6 Outlet Surge</td>\n",
       "      <td>114.9000</td>\n",
       "    </tr>\n",
       "  </tbody>\n",
       "</table>\n",
       "</div>"
      ],
      "text/plain": [
       "   Row ID        Order ID  Order Date   Ship Date       Ship Mode Customer ID  \\\n",
       "0       1  CA-2017-152156  08/11/2017  11/11/2017    Second Class    CG-12520   \n",
       "1       2  CA-2017-152156  08/11/2017  11/11/2017    Second Class    CG-12520   \n",
       "2       3  CA-2017-138688  12/06/2017  16/06/2017    Second Class    DV-13045   \n",
       "3       4  US-2016-108966  11/10/2016  18/10/2016  Standard Class    SO-20335   \n",
       "4       5  US-2016-108966  11/10/2016  18/10/2016  Standard Class    SO-20335   \n",
       "5       6  CA-2015-115812  09/06/2015  14/06/2015  Standard Class    BH-11710   \n",
       "6       7  CA-2015-115812  09/06/2015  14/06/2015  Standard Class    BH-11710   \n",
       "7       8  CA-2015-115812  09/06/2015  14/06/2015  Standard Class    BH-11710   \n",
       "8       9  CA-2015-115812  09/06/2015  14/06/2015  Standard Class    BH-11710   \n",
       "9      10  CA-2015-115812  09/06/2015  14/06/2015  Standard Class    BH-11710   \n",
       "\n",
       "     Customer Name    Segment        Country             City       State  \\\n",
       "0      Claire Gute   Consumer  United States        Henderson    Kentucky   \n",
       "1      Claire Gute   Consumer  United States        Henderson    Kentucky   \n",
       "2  Darrin Van Huff  Corporate  United States      Los Angeles  California   \n",
       "3   Sean O'Donnell   Consumer  United States  Fort Lauderdale     Florida   \n",
       "4   Sean O'Donnell   Consumer  United States  Fort Lauderdale     Florida   \n",
       "5  Brosina Hoffman   Consumer  United States      Los Angeles  California   \n",
       "6  Brosina Hoffman   Consumer  United States      Los Angeles  California   \n",
       "7  Brosina Hoffman   Consumer  United States      Los Angeles  California   \n",
       "8  Brosina Hoffman   Consumer  United States      Los Angeles  California   \n",
       "9  Brosina Hoffman   Consumer  United States      Los Angeles  California   \n",
       "\n",
       "   Postal Code Region       Product ID         Category Sub-Category  \\\n",
       "0      42420.0  South  FUR-BO-10001798        Furniture    Bookcases   \n",
       "1      42420.0  South  FUR-CH-10000454        Furniture       Chairs   \n",
       "2      90036.0   West  OFF-LA-10000240  Office Supplies       Labels   \n",
       "3      33311.0  South  FUR-TA-10000577        Furniture       Tables   \n",
       "4      33311.0  South  OFF-ST-10000760  Office Supplies      Storage   \n",
       "5      90032.0   West  FUR-FU-10001487        Furniture  Furnishings   \n",
       "6      90032.0   West  OFF-AR-10002833  Office Supplies          Art   \n",
       "7      90032.0   West  TEC-PH-10002275       Technology       Phones   \n",
       "8      90032.0   West  OFF-BI-10003910  Office Supplies      Binders   \n",
       "9      90032.0   West  OFF-AP-10002892  Office Supplies   Appliances   \n",
       "\n",
       "                                        Product Name     Sales  \n",
       "0                  Bush Somerset Collection Bookcase  261.9600  \n",
       "1  Hon Deluxe Fabric Upholstered Stacking Chairs,...  731.9400  \n",
       "2  Self-Adhesive Address Labels for Typewriters b...   14.6200  \n",
       "3      Bretford CR4500 Series Slim Rectangular Table  957.5775  \n",
       "4                     Eldon Fold 'N Roll Cart System   22.3680  \n",
       "5  Eldon Expressions Wood and Plastic Desk Access...   48.8600  \n",
       "6                                         Newell 322    7.2800  \n",
       "7                     Mitel 5320 IP Phone VoIP phone  907.1520  \n",
       "8  DXL Angle-View Binders with Locking Rings by S...   18.5040  \n",
       "9                   Belkin F5C206VTEL 6 Outlet Surge  114.9000  "
      ]
     },
     "execution_count": 3,
     "metadata": {},
     "output_type": "execute_result"
    }
   ],
   "source": [
    "df.head(10)"
   ]
  },
  {
   "cell_type": "code",
   "execution_count": 4,
   "id": "921dfdfb",
   "metadata": {},
   "outputs": [
    {
     "data": {
      "text/html": [
       "<div>\n",
       "<style scoped>\n",
       "    .dataframe tbody tr th:only-of-type {\n",
       "        vertical-align: middle;\n",
       "    }\n",
       "\n",
       "    .dataframe tbody tr th {\n",
       "        vertical-align: top;\n",
       "    }\n",
       "\n",
       "    .dataframe thead th {\n",
       "        text-align: right;\n",
       "    }\n",
       "</style>\n",
       "<table border=\"1\" class=\"dataframe\">\n",
       "  <thead>\n",
       "    <tr style=\"text-align: right;\">\n",
       "      <th></th>\n",
       "      <th>Row ID</th>\n",
       "      <th>Postal Code</th>\n",
       "      <th>Sales</th>\n",
       "    </tr>\n",
       "  </thead>\n",
       "  <tbody>\n",
       "    <tr>\n",
       "      <th>count</th>\n",
       "      <td>9800.000000</td>\n",
       "      <td>9789.000000</td>\n",
       "      <td>9800.000000</td>\n",
       "    </tr>\n",
       "    <tr>\n",
       "      <th>mean</th>\n",
       "      <td>4900.500000</td>\n",
       "      <td>55273.322403</td>\n",
       "      <td>230.769059</td>\n",
       "    </tr>\n",
       "    <tr>\n",
       "      <th>std</th>\n",
       "      <td>2829.160653</td>\n",
       "      <td>32041.223413</td>\n",
       "      <td>626.651875</td>\n",
       "    </tr>\n",
       "    <tr>\n",
       "      <th>min</th>\n",
       "      <td>1.000000</td>\n",
       "      <td>1040.000000</td>\n",
       "      <td>0.444000</td>\n",
       "    </tr>\n",
       "    <tr>\n",
       "      <th>25%</th>\n",
       "      <td>2450.750000</td>\n",
       "      <td>23223.000000</td>\n",
       "      <td>17.248000</td>\n",
       "    </tr>\n",
       "    <tr>\n",
       "      <th>50%</th>\n",
       "      <td>4900.500000</td>\n",
       "      <td>58103.000000</td>\n",
       "      <td>54.490000</td>\n",
       "    </tr>\n",
       "    <tr>\n",
       "      <th>75%</th>\n",
       "      <td>7350.250000</td>\n",
       "      <td>90008.000000</td>\n",
       "      <td>210.605000</td>\n",
       "    </tr>\n",
       "    <tr>\n",
       "      <th>max</th>\n",
       "      <td>9800.000000</td>\n",
       "      <td>99301.000000</td>\n",
       "      <td>22638.480000</td>\n",
       "    </tr>\n",
       "  </tbody>\n",
       "</table>\n",
       "</div>"
      ],
      "text/plain": [
       "            Row ID   Postal Code         Sales\n",
       "count  9800.000000   9789.000000   9800.000000\n",
       "mean   4900.500000  55273.322403    230.769059\n",
       "std    2829.160653  32041.223413    626.651875\n",
       "min       1.000000   1040.000000      0.444000\n",
       "25%    2450.750000  23223.000000     17.248000\n",
       "50%    4900.500000  58103.000000     54.490000\n",
       "75%    7350.250000  90008.000000    210.605000\n",
       "max    9800.000000  99301.000000  22638.480000"
      ]
     },
     "execution_count": 4,
     "metadata": {},
     "output_type": "execute_result"
    }
   ],
   "source": [
    "\n",
    "\n",
    "\n",
    "\n",
    "df.describe()"
   ]
  },
  {
   "cell_type": "code",
   "execution_count": 5,
   "id": "232ff1cd",
   "metadata": {
    "scrolled": false
   },
   "outputs": [
    {
     "name": "stdout",
     "output_type": "stream",
     "text": [
      "<class 'pandas.core.frame.DataFrame'>\n",
      "RangeIndex: 9800 entries, 0 to 9799\n",
      "Data columns (total 18 columns):\n",
      " #   Column         Non-Null Count  Dtype  \n",
      "---  ------         --------------  -----  \n",
      " 0   Row ID         9800 non-null   int64  \n",
      " 1   Order ID       9800 non-null   object \n",
      " 2   Order Date     9800 non-null   object \n",
      " 3   Ship Date      9800 non-null   object \n",
      " 4   Ship Mode      9800 non-null   object \n",
      " 5   Customer ID    9800 non-null   object \n",
      " 6   Customer Name  9800 non-null   object \n",
      " 7   Segment        9800 non-null   object \n",
      " 8   Country        9800 non-null   object \n",
      " 9   City           9800 non-null   object \n",
      " 10  State          9800 non-null   object \n",
      " 11  Postal Code    9789 non-null   float64\n",
      " 12  Region         9800 non-null   object \n",
      " 13  Product ID     9800 non-null   object \n",
      " 14  Category       9800 non-null   object \n",
      " 15  Sub-Category   9800 non-null   object \n",
      " 16  Product Name   9800 non-null   object \n",
      " 17  Sales          9800 non-null   float64\n",
      "dtypes: float64(2), int64(1), object(15)\n",
      "memory usage: 1.3+ MB\n"
     ]
    }
   ],
   "source": [
    "df.info()"
   ]
  },
  {
   "cell_type": "code",
   "execution_count": 6,
   "id": "9af640c4",
   "metadata": {},
   "outputs": [
    {
     "data": {
      "text/plain": [
       "11"
      ]
     },
     "execution_count": 6,
     "metadata": {},
     "output_type": "execute_result"
    }
   ],
   "source": [
    "#Filtering Null Values\n",
    "\n",
    "df['Postal Code'].isnull().sum()"
   ]
  },
  {
   "cell_type": "code",
   "execution_count": 7,
   "id": "246c7c9a",
   "metadata": {},
   "outputs": [],
   "source": [
    "df['Postal Code'].fillna(0, inplace = True)"
   ]
  },
  {
   "cell_type": "code",
   "execution_count": 8,
   "id": "0420dde6",
   "metadata": {},
   "outputs": [
    {
     "name": "stdout",
     "output_type": "stream",
     "text": [
      "<class 'pandas.core.frame.DataFrame'>\n",
      "RangeIndex: 9800 entries, 0 to 9799\n",
      "Data columns (total 18 columns):\n",
      " #   Column         Non-Null Count  Dtype  \n",
      "---  ------         --------------  -----  \n",
      " 0   Row ID         9800 non-null   int64  \n",
      " 1   Order ID       9800 non-null   object \n",
      " 2   Order Date     9800 non-null   object \n",
      " 3   Ship Date      9800 non-null   object \n",
      " 4   Ship Mode      9800 non-null   object \n",
      " 5   Customer ID    9800 non-null   object \n",
      " 6   Customer Name  9800 non-null   object \n",
      " 7   Segment        9800 non-null   object \n",
      " 8   Country        9800 non-null   object \n",
      " 9   City           9800 non-null   object \n",
      " 10  State          9800 non-null   object \n",
      " 11  Postal Code    9800 non-null   float64\n",
      " 12  Region         9800 non-null   object \n",
      " 13  Product ID     9800 non-null   object \n",
      " 14  Category       9800 non-null   object \n",
      " 15  Sub-Category   9800 non-null   object \n",
      " 16  Product Name   9800 non-null   object \n",
      " 17  Sales          9800 non-null   float64\n",
      "dtypes: float64(2), int64(1), object(15)\n",
      "memory usage: 1.3+ MB\n"
     ]
    }
   ],
   "source": [
    "df.info()"
   ]
  },
  {
   "cell_type": "code",
   "execution_count": 9,
   "id": "afcb27df",
   "metadata": {},
   "outputs": [],
   "source": [
    "# Changing Data-type\n",
    "\n",
    "df['Postal Code'] = df['Postal Code'].astype(int)"
   ]
  },
  {
   "cell_type": "code",
   "execution_count": 10,
   "id": "46649ee0",
   "metadata": {
    "scrolled": false
   },
   "outputs": [
    {
     "name": "stdout",
     "output_type": "stream",
     "text": [
      "<class 'pandas.core.frame.DataFrame'>\n",
      "RangeIndex: 9800 entries, 0 to 9799\n",
      "Data columns (total 18 columns):\n",
      " #   Column         Non-Null Count  Dtype  \n",
      "---  ------         --------------  -----  \n",
      " 0   Row ID         9800 non-null   int64  \n",
      " 1   Order ID       9800 non-null   object \n",
      " 2   Order Date     9800 non-null   object \n",
      " 3   Ship Date      9800 non-null   object \n",
      " 4   Ship Mode      9800 non-null   object \n",
      " 5   Customer ID    9800 non-null   object \n",
      " 6   Customer Name  9800 non-null   object \n",
      " 7   Segment        9800 non-null   object \n",
      " 8   Country        9800 non-null   object \n",
      " 9   City           9800 non-null   object \n",
      " 10  State          9800 non-null   object \n",
      " 11  Postal Code    9800 non-null   int32  \n",
      " 12  Region         9800 non-null   object \n",
      " 13  Product ID     9800 non-null   object \n",
      " 14  Category       9800 non-null   object \n",
      " 15  Sub-Category   9800 non-null   object \n",
      " 16  Product Name   9800 non-null   object \n",
      " 17  Sales          9800 non-null   float64\n",
      "dtypes: float64(1), int32(1), int64(1), object(15)\n",
      "memory usage: 1.3+ MB\n"
     ]
    }
   ],
   "source": [
    "df.info()"
   ]
  },
  {
   "cell_type": "code",
   "execution_count": 11,
   "id": "39ba3648",
   "metadata": {},
   "outputs": [
    {
     "data": {
      "text/plain": [
       "0"
      ]
     },
     "execution_count": 11,
     "metadata": {},
     "output_type": "execute_result"
    }
   ],
   "source": [
    "#Cleaning the Data\n",
    "\n",
    "df.duplicated().sum()"
   ]
  },
  {
   "cell_type": "markdown",
   "id": "78121cb4",
   "metadata": {},
   "source": [
    "# Exploratory Data Analysis"
   ]
  },
  {
   "cell_type": "code",
   "execution_count": 12,
   "id": "774a50e4",
   "metadata": {},
   "outputs": [
    {
     "data": {
      "text/plain": [
       "array(['Consumer', 'Corporate', 'Home Office'], dtype=object)"
      ]
     },
     "execution_count": 12,
     "metadata": {},
     "output_type": "execute_result"
    }
   ],
   "source": [
    "#Customer Analysis\n",
    "\n",
    "df['Segment'].unique()"
   ]
  },
  {
   "cell_type": "code",
   "execution_count": 13,
   "id": "ee92c739",
   "metadata": {
    "scrolled": true
   },
   "outputs": [
    {
     "name": "stdout",
     "output_type": "stream",
     "text": [
      "  Customer Type  Total Cutomers\n",
      "0      Consumer            5101\n",
      "1     Corporate            2953\n",
      "2   Home Office            1746\n"
     ]
    }
   ],
   "source": [
    "number_of_customer = df['Segment'].value_counts().reset_index()\n",
    "\n",
    "number_of_customer = number_of_customer.rename(columns={'Segment':'Customer Type','count':'Total Cutomers'})\n",
    "print(number_of_customer)"
   ]
  },
  {
   "cell_type": "code",
   "execution_count": 14,
   "id": "90e16e81",
   "metadata": {
    "scrolled": false
   },
   "outputs": [
    {
     "data": {
      "image/png": "[encoded data removed]",
      "text/plain": [
       "<Figure size 640x480 with 1 Axes>"
      ]
     },
     "metadata": {},
     "output_type": "display_data"
    }
   ],
   "source": [
    "plt.pie(number_of_customer['Total Cutomers'], labels=number_of_customer['Customer Type'], autopct='%1.1f%%')\n",
    "plt.show()"
   ]
  },
  {
   "cell_type": "code",
   "execution_count": 15,
   "id": "30e49512",
   "metadata": {},
   "outputs": [
    {
     "name": "stdout",
     "output_type": "stream",
     "text": [
      "  Customer Type   Total Sales\n",
      "0      Consumer  1.148061e+06\n",
      "1     Corporate  6.884941e+05\n",
      "2   Home Office  4.249822e+05\n"
     ]
    }
   ],
   "source": [
    "# Customer and Sales\n",
    "\n",
    "sales_per_category = df.groupby('Segment')['Sales'].sum().reset_index()\n",
    "\n",
    "sales_per_category = sales_per_category.rename(columns={'Segment':'Customer Type','Sales':'Total Sales'})\n",
    "print(sales_per_category)"
   ]
  },
  {
   "cell_type": "code",
   "execution_count": 16,
   "id": "63564da3",
   "metadata": {
    "scrolled": true
   },
   "outputs": [
    {
     "data": {
      "image/png": "[encoded data removed]",
      "text/plain": [
       "<Figure size 640x480 with 1 Axes>"
      ]
     },
     "metadata": {},
     "output_type": "display_data"
    }
   ],
   "source": [
    "plt.pie(sales_per_category['Total Sales'], labels=number_of_customer['Customer Type'], autopct='%1.1f%%')\n",
    "plt.show()"
   ]
  },
  {
   "cell_type": "code",
   "execution_count": 17,
   "id": "05f0d41e",
   "metadata": {},
   "outputs": [
    {
     "data": {
      "image/png": "[encoded data removed]",
      "text/plain": [
       "<Figure size 640x480 with 1 Axes>"
      ]
     },
     "metadata": {},
     "output_type": "display_data"
    }
   ],
   "source": [
    "plt.bar(sales_per_category['Customer Type'], sales_per_category['Total Sales'])\n",
    "\n",
    "plt.xlabel('Customer Type')\n",
    "plt.ylabel('Total Sales')\n",
    "plt.title('sales per customer category')\n",
    "\n",
    "plt.show()"
   ]
  },
  {
   "cell_type": "code",
   "execution_count": 18,
   "id": "e91dd2f1",
   "metadata": {
    "scrolled": true
   },
   "outputs": [
    {
     "data": {
      "text/html": [
       "<div>\n",
       "<style scoped>\n",
       "    .dataframe tbody tr th:only-of-type {\n",
       "        vertical-align: middle;\n",
       "    }\n",
       "\n",
       "    .dataframe tbody tr th {\n",
       "        vertical-align: top;\n",
       "    }\n",
       "\n",
       "    .dataframe thead th {\n",
       "        text-align: right;\n",
       "    }\n",
       "</style>\n",
       "<table border=\"1\" class=\"dataframe\">\n",
       "  <thead>\n",
       "    <tr style=\"text-align: right;\">\n",
       "      <th></th>\n",
       "      <th>Row ID</th>\n",
       "      <th>Order ID</th>\n",
       "      <th>Order Date</th>\n",
       "      <th>Ship Date</th>\n",
       "      <th>Ship Mode</th>\n",
       "      <th>Customer ID</th>\n",
       "      <th>Customer Name</th>\n",
       "      <th>Segment</th>\n",
       "      <th>Country</th>\n",
       "      <th>City</th>\n",
       "      <th>State</th>\n",
       "      <th>Postal Code</th>\n",
       "      <th>Region</th>\n",
       "      <th>Product ID</th>\n",
       "      <th>Category</th>\n",
       "      <th>Sub-Category</th>\n",
       "      <th>Product Name</th>\n",
       "      <th>Sales</th>\n",
       "    </tr>\n",
       "  </thead>\n",
       "  <tbody>\n",
       "    <tr>\n",
       "      <th>0</th>\n",
       "      <td>1</td>\n",
       "      <td>CA-2017-152156</td>\n",
       "      <td>08/11/2017</td>\n",
       "      <td>11/11/2017</td>\n",
       "      <td>Second Class</td>\n",
       "      <td>CG-12520</td>\n",
       "      <td>Claire Gute</td>\n",
       "      <td>Consumer</td>\n",
       "      <td>United States</td>\n",
       "      <td>Henderson</td>\n",
       "      <td>Kentucky</td>\n",
       "      <td>42420</td>\n",
       "      <td>South</td>\n",
       "      <td>FUR-BO-10001798</td>\n",
       "      <td>Furniture</td>\n",
       "      <td>Bookcases</td>\n",
       "      <td>Bush Somerset Collection Bookcase</td>\n",
       "      <td>261.9600</td>\n",
       "    </tr>\n",
       "    <tr>\n",
       "      <th>1</th>\n",
       "      <td>2</td>\n",
       "      <td>CA-2017-152156</td>\n",
       "      <td>08/11/2017</td>\n",
       "      <td>11/11/2017</td>\n",
       "      <td>Second Class</td>\n",
       "      <td>CG-12520</td>\n",
       "      <td>Claire Gute</td>\n",
       "      <td>Consumer</td>\n",
       "      <td>United States</td>\n",
       "      <td>Henderson</td>\n",
       "      <td>Kentucky</td>\n",
       "      <td>42420</td>\n",
       "      <td>South</td>\n",
       "      <td>FUR-CH-10000454</td>\n",
       "      <td>Furniture</td>\n",
       "      <td>Chairs</td>\n",
       "      <td>Hon Deluxe Fabric Upholstered Stacking Chairs,...</td>\n",
       "      <td>731.9400</td>\n",
       "    </tr>\n",
       "    <tr>\n",
       "      <th>2</th>\n",
       "      <td>3</td>\n",
       "      <td>CA-2017-138688</td>\n",
       "      <td>12/06/2017</td>\n",
       "      <td>16/06/2017</td>\n",
       "      <td>Second Class</td>\n",
       "      <td>DV-13045</td>\n",
       "      <td>Darrin Van Huff</td>\n",
       "      <td>Corporate</td>\n",
       "      <td>United States</td>\n",
       "      <td>Los Angeles</td>\n",
       "      <td>California</td>\n",
       "      <td>90036</td>\n",
       "      <td>West</td>\n",
       "      <td>OFF-LA-10000240</td>\n",
       "      <td>Office Supplies</td>\n",
       "      <td>Labels</td>\n",
       "      <td>Self-Adhesive Address Labels for Typewriters b...</td>\n",
       "      <td>14.6200</td>\n",
       "    </tr>\n",
       "    <tr>\n",
       "      <th>3</th>\n",
       "      <td>4</td>\n",
       "      <td>US-2016-108966</td>\n",
       "      <td>11/10/2016</td>\n",
       "      <td>18/10/2016</td>\n",
       "      <td>Standard Class</td>\n",
       "      <td>SO-20335</td>\n",
       "      <td>Sean O'Donnell</td>\n",
       "      <td>Consumer</td>\n",
       "      <td>United States</td>\n",
       "      <td>Fort Lauderdale</td>\n",
       "      <td>Florida</td>\n",
       "      <td>33311</td>\n",
       "      <td>South</td>\n",
       "      <td>FUR-TA-10000577</td>\n",
       "      <td>Furniture</td>\n",
       "      <td>Tables</td>\n",
       "      <td>Bretford CR4500 Series Slim Rectangular Table</td>\n",
       "      <td>957.5775</td>\n",
       "    </tr>\n",
       "    <tr>\n",
       "      <th>4</th>\n",
       "      <td>5</td>\n",
       "      <td>US-2016-108966</td>\n",
       "      <td>11/10/2016</td>\n",
       "      <td>18/10/2016</td>\n",
       "      <td>Standard Class</td>\n",
       "      <td>SO-20335</td>\n",
       "      <td>Sean O'Donnell</td>\n",
       "      <td>Consumer</td>\n",
       "      <td>United States</td>\n",
       "      <td>Fort Lauderdale</td>\n",
       "      <td>Florida</td>\n",
       "      <td>33311</td>\n",
       "      <td>South</td>\n",
       "      <td>OFF-ST-10000760</td>\n",
       "      <td>Office Supplies</td>\n",
       "      <td>Storage</td>\n",
       "      <td>Eldon Fold 'N Roll Cart System</td>\n",
       "      <td>22.3680</td>\n",
       "    </tr>\n",
       "    <tr>\n",
       "      <th>5</th>\n",
       "      <td>6</td>\n",
       "      <td>CA-2015-115812</td>\n",
       "      <td>09/06/2015</td>\n",
       "      <td>14/06/2015</td>\n",
       "      <td>Standard Class</td>\n",
       "      <td>BH-11710</td>\n",
       "      <td>Brosina Hoffman</td>\n",
       "      <td>Consumer</td>\n",
       "      <td>United States</td>\n",
       "      <td>Los Angeles</td>\n",
       "      <td>California</td>\n",
       "      <td>90032</td>\n",
       "      <td>West</td>\n",
       "      <td>FUR-FU-10001487</td>\n",
       "      <td>Furniture</td>\n",
       "      <td>Furnishings</td>\n",
       "      <td>Eldon Expressions Wood and Plastic Desk Access...</td>\n",
       "      <td>48.8600</td>\n",
       "    </tr>\n",
       "    <tr>\n",
       "      <th>6</th>\n",
       "      <td>7</td>\n",
       "      <td>CA-2015-115812</td>\n",
       "      <td>09/06/2015</td>\n",
       "      <td>14/06/2015</td>\n",
       "      <td>Standard Class</td>\n",
       "      <td>BH-11710</td>\n",
       "      <td>Brosina Hoffman</td>\n",
       "      <td>Consumer</td>\n",
       "      <td>United States</td>\n",
       "      <td>Los Angeles</td>\n",
       "      <td>California</td>\n",
       "      <td>90032</td>\n",
       "      <td>West</td>\n",
       "      <td>OFF-AR-10002833</td>\n",
       "      <td>Office Supplies</td>\n",
       "      <td>Art</td>\n",
       "      <td>Newell 322</td>\n",
       "      <td>7.2800</td>\n",
       "    </tr>\n",
       "    <tr>\n",
       "      <th>7</th>\n",
       "      <td>8</td>\n",
       "      <td>CA-2015-115812</td>\n",
       "      <td>09/06/2015</td>\n",
       "      <td>14/06/2015</td>\n",
       "      <td>Standard Class</td>\n",
       "      <td>BH-11710</td>\n",
       "      <td>Brosina Hoffman</td>\n",
       "      <td>Consumer</td>\n",
       "      <td>United States</td>\n",
       "      <td>Los Angeles</td>\n",
       "      <td>California</td>\n",
       "      <td>90032</td>\n",
       "      <td>West</td>\n",
       "      <td>TEC-PH-10002275</td>\n",
       "      <td>Technology</td>\n",
       "      <td>Phones</td>\n",
       "      <td>Mitel 5320 IP Phone VoIP phone</td>\n",
       "      <td>907.1520</td>\n",
       "    </tr>\n",
       "    <tr>\n",
       "      <th>8</th>\n",
       "      <td>9</td>\n",
       "      <td>CA-2015-115812</td>\n",
       "      <td>09/06/2015</td>\n",
       "      <td>14/06/2015</td>\n",
       "      <td>Standard Class</td>\n",
       "      <td>BH-11710</td>\n",
       "      <td>Brosina Hoffman</td>\n",
       "      <td>Consumer</td>\n",
       "      <td>United States</td>\n",
       "      <td>Los Angeles</td>\n",
       "      <td>California</td>\n",
       "      <td>90032</td>\n",
       "      <td>West</td>\n",
       "      <td>OFF-BI-10003910</td>\n",
       "      <td>Office Supplies</td>\n",
       "      <td>Binders</td>\n",
       "      <td>DXL Angle-View Binders with Locking Rings by S...</td>\n",
       "      <td>18.5040</td>\n",
       "    </tr>\n",
       "    <tr>\n",
       "      <th>9</th>\n",
       "      <td>10</td>\n",
       "      <td>CA-2015-115812</td>\n",
       "      <td>09/06/2015</td>\n",
       "      <td>14/06/2015</td>\n",
       "      <td>Standard Class</td>\n",
       "      <td>BH-11710</td>\n",
       "      <td>Brosina Hoffman</td>\n",
       "      <td>Consumer</td>\n",
       "      <td>United States</td>\n",
       "      <td>Los Angeles</td>\n",
       "      <td>California</td>\n",
       "      <td>90032</td>\n",
       "      <td>West</td>\n",
       "      <td>OFF-AP-10002892</td>\n",
       "      <td>Office Supplies</td>\n",
       "      <td>Appliances</td>\n",
       "      <td>Belkin F5C206VTEL 6 Outlet Surge</td>\n",
       "      <td>114.9000</td>\n",
       "    </tr>\n",
       "  </tbody>\n",
       "</table>\n",
       "</div>"
      ],
      "text/plain": [
       "   Row ID        Order ID  Order Date   Ship Date       Ship Mode Customer ID  \\\n",
       "0       1  CA-2017-152156  08/11/2017  11/11/2017    Second Class    CG-12520   \n",
       "1       2  CA-2017-152156  08/11/2017  11/11/2017    Second Class    CG-12520   \n",
       "2       3  CA-2017-138688  12/06/2017  16/06/2017    Second Class    DV-13045   \n",
       "3       4  US-2016-108966  11/10/2016  18/10/2016  Standard Class    SO-20335   \n",
       "4       5  US-2016-108966  11/10/2016  18/10/2016  Standard Class    SO-20335   \n",
       "5       6  CA-2015-115812  09/06/2015  14/06/2015  Standard Class    BH-11710   \n",
       "6       7  CA-2015-115812  09/06/2015  14/06/2015  Standard Class    BH-11710   \n",
       "7       8  CA-2015-115812  09/06/2015  14/06/2015  Standard Class    BH-11710   \n",
       "8       9  CA-2015-115812  09/06/2015  14/06/2015  Standard Class    BH-11710   \n",
       "9      10  CA-2015-115812  09/06/2015  14/06/2015  Standard Class    BH-11710   \n",
       "\n",
       "     Customer Name    Segment        Country             City       State  \\\n",
       "0      Claire Gute   Consumer  United States        Henderson    Kentucky   \n",
       "1      Claire Gute   Consumer  United States        Henderson    Kentucky   \n",
       "2  Darrin Van Huff  Corporate  United States      Los Angeles  California   \n",
       "3   Sean O'Donnell   Consumer  United States  Fort Lauderdale     Florida   \n",
       "4   Sean O'Donnell   Consumer  United States  Fort Lauderdale     Florida   \n",
       "5  Brosina Hoffman   Consumer  United States      Los Angeles  California   \n",
       "6  Brosina Hoffman   Consumer  United States      Los Angeles  California   \n",
       "7  Brosina Hoffman   Consumer  United States      Los Angeles  California   \n",
       "8  Brosina Hoffman   Consumer  United States      Los Angeles  California   \n",
       "9  Brosina Hoffman   Consumer  United States      Los Angeles  California   \n",
       "\n",
       "   Postal Code Region       Product ID         Category Sub-Category  \\\n",
       "0        42420  South  FUR-BO-10001798        Furniture    Bookcases   \n",
       "1        42420  South  FUR-CH-10000454        Furniture       Chairs   \n",
       "2        90036   West  OFF-LA-10000240  Office Supplies       Labels   \n",
       "3        33311  South  FUR-TA-10000577        Furniture       Tables   \n",
       "4        33311  South  OFF-ST-10000760  Office Supplies      Storage   \n",
       "5        90032   West  FUR-FU-10001487        Furniture  Furnishings   \n",
       "6        90032   West  OFF-AR-10002833  Office Supplies          Art   \n",
       "7        90032   West  TEC-PH-10002275       Technology       Phones   \n",
       "8        90032   West  OFF-BI-10003910  Office Supplies      Binders   \n",
       "9        90032   West  OFF-AP-10002892  Office Supplies   Appliances   \n",
       "\n",
       "                                        Product Name     Sales  \n",
       "0                  Bush Somerset Collection Bookcase  261.9600  \n",
       "1  Hon Deluxe Fabric Upholstered Stacking Chairs,...  731.9400  \n",
       "2  Self-Adhesive Address Labels for Typewriters b...   14.6200  \n",
       "3      Bretford CR4500 Series Slim Rectangular Table  957.5775  \n",
       "4                     Eldon Fold 'N Roll Cart System   22.3680  \n",
       "5  Eldon Expressions Wood and Plastic Desk Access...   48.8600  \n",
       "6                                         Newell 322    7.2800  \n",
       "7                     Mitel 5320 IP Phone VoIP phone  907.1520  \n",
       "8  DXL Angle-View Binders with Locking Rings by S...   18.5040  \n",
       "9                   Belkin F5C206VTEL 6 Outlet Surge  114.9000  "
      ]
     },
     "execution_count": 18,
     "metadata": {},
     "output_type": "execute_result"
    }
   ],
   "source": [
    "#Customer Loyalty\n",
    "\n",
    "df.head(10)"
   ]
  },
  {
   "cell_type": "code",
   "execution_count": 19,
   "id": "8ae12796",
   "metadata": {},
   "outputs": [
    {
     "name": "stdout",
     "output_type": "stream",
     "text": [
      "    Customer ID      Segment        Customer Name  Total Orders\n",
      "787    WB-21850     Consumer        William Brown            35\n",
      "606    PP-18955  Home Office           Paul Prost            34\n",
      "482    MA-17560  Home Office         Matt Abelman            34\n",
      "387    JL-15835     Consumer             John Lee            33\n",
      "147    CK-12205     Consumer  Chloris Kastensmidt            32\n",
      "..          ...          ...                  ...           ...\n",
      "681    SC-20845     Consumer           Sung Chung             1\n",
      "456    LD-16855    Corporate         Lela Donovan             1\n",
      "403    JR-15700     Consumer       Jocasta Rupert             1\n",
      "637    RE-19405     Consumer      Ricardo Emerson             1\n",
      "145    CJ-11875    Corporate         Carl Jackson             1\n",
      "\n",
      "[793 rows x 4 columns]\n"
     ]
    }
   ],
   "source": [
    "cust_freq = df.groupby(['Customer ID','Segment','Customer Name'])['Order ID'].count().reset_index()\n",
    "\n",
    "cust_freq.rename(columns={'Order ID':'Total Orders'}, inplace= True)\n",
    "repeat_cust = cust_freq[cust_freq['Total Orders']>= 1]\n",
    "\n",
    "sort_rep_cust = repeat_cust.sort_values(by='Total Orders', ascending = False)\n",
    "print(sort_rep_cust)"
   ]
  },
  {
   "cell_type": "code",
   "execution_count": 20,
   "id": "fda6f993",
   "metadata": {},
   "outputs": [
    {
     "name": "stdout",
     "output_type": "stream",
     "text": [
      "    Customer ID    Customer Name      Segment      Sales\n",
      "0      SM-20320      Sean Miller  Home Office  25043.050\n",
      "1      TC-20980     Tamara Chand    Corporate  19052.218\n",
      "2      RB-19360     Raymond Buch     Consumer  15117.339\n",
      "3      TA-21385     Tom Ashbrook  Home Office  14595.620\n",
      "4      AB-10105    Adrian Barton     Consumer  14473.571\n",
      "..          ...              ...          ...        ...\n",
      "788    MG-18205  Mitch Gastineau    Corporate     16.739\n",
      "789    CJ-11875     Carl Jackson    Corporate     16.520\n",
      "790    SC-20845       Sung Chung     Consumer     14.112\n",
      "791    LD-16855     Lela Donovan    Corporate      5.304\n",
      "792    TS-21085    Thais Sissman     Consumer      4.833\n",
      "\n",
      "[793 rows x 4 columns]\n"
     ]
    }
   ],
   "source": [
    "#Identify top-spending customers based on their total purchase amount\n",
    "\n",
    "customer_sales = df.groupby(['Customer ID', 'Customer Name', 'Segment'])['Sales'].sum().reset_index()\n",
    "\n",
    "top_spenders = customer_sales.sort_values(by='Sales', ascending=False)\n",
    "\n",
    "print(top_spenders.reset_index(drop=True))"
   ]
  },
  {
   "cell_type": "code",
   "execution_count": 21,
   "id": "b0f71961",
   "metadata": {},
   "outputs": [
    {
     "name": "stdout",
     "output_type": "stream",
     "text": [
      "['Second Class' 'Standard Class' 'First Class' 'Same Day']\n"
     ]
    }
   ],
   "source": [
    "#Types of Shipping methods \n",
    "\n",
    "types_of_customers = df['Ship Mode'].unique()\n",
    "print(types_of_customers)"
   ]
  },
  {
   "cell_type": "code",
   "execution_count": 22,
   "id": "ab121486",
   "metadata": {},
   "outputs": [
    {
     "name": "stdout",
     "output_type": "stream",
     "text": [
      "  Mode of Shipment  Use Frequency\n",
      "0   Standard Class           5859\n",
      "1     Second Class           1902\n",
      "2      First Class           1501\n",
      "3         Same Day            538\n"
     ]
    }
   ],
   "source": [
    "# Frequency of use of a shipping methods \n",
    "\n",
    "shipping_model = df['Ship Mode'].value_counts().reset_index()\n",
    "shipping_model = shipping_model.rename(columns={'Ship Mode':'Mode of Shipment', 'count': 'Use Frequency'},)\n",
    "\n",
    "print(shipping_model)"
   ]
  },
  {
   "cell_type": "code",
   "execution_count": 23,
   "id": "187d687b",
   "metadata": {},
   "outputs": [
    {
     "data": {
      "image/png": "[encoded data removed]",
      "text/plain": [
       "<Figure size 640x480 with 1 Axes>"
      ]
     },
     "metadata": {},
     "output_type": "display_data"
    }
   ],
   "source": [
    "plt.pie(shipping_model['Use Frequency'], labels=shipping_model['Mode of Shipment'], autopct='%1.1f%%')\n",
    "\n",
    "# Set the title of the pie chart\n",
    "plt.title('Popular Mode Of Shipment')\n",
    "plt.show()\n"
   ]
  },
  {
   "cell_type": "code",
   "execution_count": 24,
   "id": "cad989be",
   "metadata": {},
   "outputs": [
    {
     "name": "stdout",
     "output_type": "stream",
     "text": [
      "                   State  Number of customers\n",
      "0             California                 1946\n",
      "1               New York                 1097\n",
      "2                  Texas                  973\n",
      "3           Pennsylvania                  582\n",
      "4             Washington                  504\n",
      "5               Illinois                  483\n",
      "6                   Ohio                  454\n",
      "7                Florida                  373\n",
      "8               Michigan                  253\n",
      "9         North Carolina                  247\n",
      "10              Virginia                  224\n",
      "11               Arizona                  223\n",
      "12             Tennessee                  183\n",
      "13              Colorado                  179\n",
      "14               Georgia                  177\n",
      "15              Kentucky                  137\n",
      "16               Indiana                  135\n",
      "17         Massachusetts                  135\n",
      "18                Oregon                  122\n",
      "19            New Jersey                  122\n",
      "20              Maryland                  105\n",
      "21             Wisconsin                  105\n",
      "22              Delaware                   93\n",
      "23             Minnesota                   89\n",
      "24           Connecticut                   82\n",
      "25              Missouri                   66\n",
      "26              Oklahoma                   66\n",
      "27               Alabama                   61\n",
      "28              Arkansas                   60\n",
      "29          Rhode Island                   55\n",
      "30           Mississippi                   53\n",
      "31                  Utah                   53\n",
      "32        South Carolina                   42\n",
      "33             Louisiana                   41\n",
      "34                Nevada                   39\n",
      "35              Nebraska                   38\n",
      "36            New Mexico                   37\n",
      "37         New Hampshire                   27\n",
      "38                  Iowa                   26\n",
      "39                Kansas                   24\n",
      "40                 Idaho                   21\n",
      "41               Montana                   15\n",
      "42          South Dakota                   12\n",
      "43               Vermont                   11\n",
      "44  District of Columbia                   10\n",
      "45                 Maine                    8\n",
      "46          North Dakota                    7\n",
      "47         West Virginia                    4\n",
      "48               Wyoming                    1\n"
     ]
    }
   ],
   "source": [
    "#Geographical Analysis\n",
    "\n",
    "state = df['State'].value_counts().reset_index()\n",
    "state = state.rename(columns={'Number_of_customers':'State', 'count':'Number of customers'})\n",
    "\n",
    "print(state)"
   ]
  },
  {
   "cell_type": "code",
   "execution_count": 25,
   "id": "59029cc3",
   "metadata": {},
   "outputs": [
    {
     "name": "stdout",
     "output_type": "stream",
     "text": [
      "              City   Number_of_customers\n",
      "0    New York City                   891\n",
      "1      Los Angeles                   728\n",
      "2     Philadelphia                   532\n",
      "3    San Francisco                   500\n",
      "4          Seattle                   426\n",
      "..             ...                   ...\n",
      "524      San Mateo                     1\n",
      "525       Cheyenne                     1\n",
      "526         Conway                     1\n",
      "527      Melbourne                     1\n",
      "528     Springdale                     1\n",
      "\n",
      "[529 rows x 2 columns]\n"
     ]
    }
   ],
   "source": [
    "# Customers per city \n",
    "\n",
    "city = df['City'].value_counts().reset_index()\n",
    "city= city.rename(columns={'Number_of_customers':'City', 'count':' Number_of_customers'})\n",
    "\n",
    "print(city)"
   ]
  },
  {
   "cell_type": "code",
   "execution_count": 26,
   "id": "05cf5d2b",
   "metadata": {},
   "outputs": [
    {
     "name": "stdout",
     "output_type": "stream",
     "text": [
      "                   State        Sales\n",
      "0             California  446306.4635\n",
      "1               New York  306361.1470\n",
      "2                  Texas  168572.5322\n",
      "3             Washington  135206.8500\n",
      "4           Pennsylvania  116276.6500\n",
      "5                Florida   88436.5320\n",
      "6               Illinois   79236.5170\n",
      "7               Michigan   76136.0740\n",
      "8                   Ohio   75130.3500\n",
      "9               Virginia   70636.7200\n",
      "10        North Carolina   55165.9640\n",
      "11               Indiana   48718.4000\n",
      "12               Georgia   48219.1100\n",
      "13              Kentucky   36458.3900\n",
      "14               Arizona   35272.6570\n",
      "15            New Jersey   34610.9720\n",
      "16              Colorado   31841.5980\n",
      "17             Wisconsin   31173.4300\n",
      "18             Tennessee   30661.8730\n",
      "19             Minnesota   29863.1500\n",
      "20         Massachusetts   28634.4340\n",
      "21              Delaware   27322.9990\n",
      "22              Maryland   23705.5230\n",
      "23          Rhode Island   22525.0260\n",
      "24              Missouri   22205.1500\n",
      "25              Oklahoma   19683.3900\n",
      "26               Alabama   19510.6400\n",
      "27                Oregon   17284.4620\n",
      "28                Nevada   16729.1020\n",
      "29           Connecticut   13384.3570\n",
      "30              Arkansas   11678.1300\n",
      "31                  Utah   11220.0560\n",
      "32           Mississippi   10771.3400\n",
      "33             Louisiana    9131.0500\n",
      "34               Vermont    8929.3700\n",
      "35        South Carolina    8481.7100\n",
      "36              Nebraska    7464.9300\n",
      "37         New Hampshire    7292.5240\n",
      "38               Montana    5589.3520\n",
      "39            New Mexico    4783.5220\n",
      "40                  Iowa    4443.5600\n",
      "41                 Idaho    4382.4860\n",
      "42                Kansas    2914.3100\n",
      "43  District of Columbia    2865.0200\n",
      "44               Wyoming    1603.1360\n",
      "45          South Dakota    1315.5600\n",
      "46                 Maine    1270.5300\n",
      "47         West Virginia    1209.8240\n",
      "48          North Dakota     919.9100\n"
     ]
    }
   ],
   "source": [
    "# Sales per state \n",
    "\n",
    "# Group the data by state and calculate the total purchases (sales) for each state\n",
    "state_sales = df.groupby(['State'])['Sales'].sum().reset_index()\n",
    "\n",
    "# Sort the states based on their total sales in descending order to identify top spenders\n",
    "top_sales = state_sales.sort_values(by='Sales', ascending=False)\n",
    "\n",
    "# Print the states \n",
    "print(top_sales.reset_index(drop=True))"
   ]
  },
  {
   "cell_type": "code",
   "execution_count": 27,
   "id": "0ad7f4c6",
   "metadata": {},
   "outputs": [
    {
     "name": "stdout",
     "output_type": "stream",
     "text": [
      "              City       Sales\n",
      "0    New York City  252462.547\n",
      "1      Los Angeles  173420.181\n",
      "2          Seattle  116106.322\n",
      "3    San Francisco  109041.120\n",
      "4     Philadelphia  108841.749\n",
      "..             ...         ...\n",
      "524   Ormond Beach       2.808\n",
      "525      Pensacola       2.214\n",
      "526        Jupiter       2.064\n",
      "527         Elyria       1.824\n",
      "528        Abilene       1.392\n",
      "\n",
      "[529 rows x 2 columns]\n"
     ]
    }
   ],
   "source": [
    "# Group the data by state and calculate the total purchase (sales) for each city\n",
    "city_sales = df.groupby(['City'])['Sales'].sum().reset_index()\n",
    "\n",
    "# Sort the cities based on their sales in descending order to identify top cities\n",
    "top_city_sales = city_sales.sort_values(by='Sales', ascending=False)\n",
    "\n",
    "# Print the states \n",
    "print(top_city_sales.reset_index(drop=True))"
   ]
  },
  {
   "cell_type": "code",
   "execution_count": 28,
   "id": "0a6b8613",
   "metadata": {},
   "outputs": [
    {
     "name": "stdout",
     "output_type": "stream",
     "text": [
      "['Furniture' 'Office Supplies' 'Technology']\n"
     ]
    }
   ],
   "source": [
    "#Product Category Analysis\n",
    "\n",
    "# Types of products in the Stores \n",
    "\n",
    "products = df['Category'].unique()\n",
    "print(products)"
   ]
  },
  {
   "cell_type": "code",
   "execution_count": 29,
   "id": "bc2ad281",
   "metadata": {},
   "outputs": [
    {
     "name": "stdout",
     "output_type": "stream",
     "text": [
      "['Bookcases' 'Chairs' 'Labels' 'Tables' 'Storage' 'Furnishings' 'Art'\n",
      " 'Phones' 'Binders' 'Appliances' 'Paper' 'Accessories' 'Envelopes'\n",
      " 'Fasteners' 'Supplies' 'Machines' 'Copiers']\n"
     ]
    }
   ],
   "source": [
    "product_subcategory = df['Sub-Category'].unique()\n",
    "print(product_subcategory)"
   ]
  },
  {
   "cell_type": "code",
   "execution_count": 30,
   "id": "0b79617f",
   "metadata": {},
   "outputs": [
    {
     "name": "stdout",
     "output_type": "stream",
     "text": [
      "17\n"
     ]
    }
   ],
   "source": [
    "product_subcategory = df['Sub-Category'].nunique()\n",
    "print(product_subcategory)"
   ]
  },
  {
   "cell_type": "code",
   "execution_count": 31,
   "id": "f721fd92",
   "metadata": {},
   "outputs": [
    {
     "name": "stdout",
     "output_type": "stream",
     "text": [
      "          Category  Sub-Category\n",
      "1  Office Supplies             9\n",
      "0        Furniture             4\n",
      "2       Technology             4\n"
     ]
    }
   ],
   "source": [
    "# Group the data by product category and how many sub-category it has \n",
    "subcategory_count = df.groupby('Category')['Sub-Category'].nunique().reset_index()\n",
    "# sort by ascending order\n",
    "subcategory_count = subcategory_count.sort_values(by='Sub-Category', ascending=False)\n",
    "# Print the states \n",
    "print(subcategory_count)"
   ]
  },
  {
   "cell_type": "code",
   "execution_count": 32,
   "id": "eb844757",
   "metadata": {},
   "outputs": [
    {
     "name": "stdout",
     "output_type": "stream",
     "text": [
      "           Category Sub-Category        Sales\n",
      "0         Furniture    Bookcases  113813.1987\n",
      "1         Furniture       Chairs  322822.7310\n",
      "2         Furniture  Furnishings   89212.0180\n",
      "3         Furniture       Tables  202810.6280\n",
      "4   Office Supplies   Appliances  104618.4030\n",
      "5   Office Supplies          Art   26705.4100\n",
      "6   Office Supplies      Binders  200028.7850\n",
      "7   Office Supplies    Envelopes   16128.0460\n",
      "8   Office Supplies    Fasteners    3001.9600\n",
      "9   Office Supplies       Labels   12347.7260\n",
      "10  Office Supplies        Paper   76828.3040\n",
      "11  Office Supplies      Storage  219343.3920\n",
      "12  Office Supplies     Supplies   46420.3080\n",
      "13       Technology  Accessories  164186.7000\n",
      "14       Technology      Copiers  146248.0940\n",
      "15       Technology     Machines  189238.6310\n",
      "16       Technology       Phones  327782.4480\n"
     ]
    }
   ],
   "source": [
    "subcategory_count_sales = df.groupby(['Category','Sub-Category'])['Sales'].sum().reset_index()\n",
    "\n",
    "print(subcategory_count_sales)"
   ]
  },
  {
   "cell_type": "code",
   "execution_count": 33,
   "id": "71767739",
   "metadata": {},
   "outputs": [
    {
     "name": "stdout",
     "output_type": "stream",
     "text": [
      "          Category        Sales\n",
      "0       Technology  827455.8730\n",
      "1        Furniture  728658.5757\n",
      "2  Office Supplies  705422.3340\n"
     ]
    }
   ],
   "source": [
    "# Group the data by product category versus the sales from each product category \n",
    "product_category = df.groupby(['Category'])['Sales'].sum().reset_index()\n",
    "\n",
    "# Sort the product category in their descending order and identify top product category\n",
    "top_product_category = product_category.sort_values(by='Sales', ascending=False) \n",
    "\n",
    "# Print the states \n",
    "print(top_product_category.reset_index(drop=True))"
   ]
  },
  {
   "cell_type": "code",
   "execution_count": 34,
   "id": "8aab7088",
   "metadata": {},
   "outputs": [
    {
     "data": {
      "image/png": "[encoded data removed]",
      "text/plain": [
       "<Figure size 640x480 with 1 Axes>"
      ]
     },
     "metadata": {},
     "output_type": "display_data"
    }
   ],
   "source": [
    "# Plotting a pie chart \n",
    "plt.pie(top_product_category['Sales'], labels=top_product_category['Category'], autopct='%1.1f%%')\n",
    "\n",
    "# set the labels of the pie chart \n",
    "plt.title('Top Product Categories Based on Sales')\n",
    "        \n",
    "plt.show()"
   ]
  },
  {
   "cell_type": "code",
   "execution_count": 35,
   "id": "dfc97f23",
   "metadata": {},
   "outputs": [
    {
     "name": "stdout",
     "output_type": "stream",
     "text": [
      "   Sub-Category        Sales\n",
      "0        Phones  327782.4480\n",
      "1        Chairs  322822.7310\n",
      "2       Storage  219343.3920\n",
      "3        Tables  202810.6280\n",
      "4       Binders  200028.7850\n",
      "5      Machines  189238.6310\n",
      "6   Accessories  164186.7000\n",
      "7       Copiers  146248.0940\n",
      "8     Bookcases  113813.1987\n",
      "9    Appliances  104618.4030\n",
      "10  Furnishings   89212.0180\n",
      "11        Paper   76828.3040\n",
      "12     Supplies   46420.3080\n",
      "13          Art   26705.4100\n",
      "14    Envelopes   16128.0460\n",
      "15       Labels   12347.7260\n",
      "16    Fasteners    3001.9600\n"
     ]
    }
   ],
   "source": [
    "# Group the data by product sub category versus the sales  \n",
    "product_subcategory = df.groupby(['Sub-Category'])['Sales'].sum().reset_index()\n",
    "\n",
    "# Sort the product category in their descending order and identify top product category\n",
    "top_product_subcategory = product_subcategory.sort_values(by='Sales', ascending=False) \n",
    "\n",
    "# Print the states \n",
    "print(top_product_subcategory.reset_index(drop=True))"
   ]
  },
  {
   "cell_type": "code",
   "execution_count": 36,
   "id": "70185296",
   "metadata": {},
   "outputs": [
    {
     "data": {
      "image/png": "[encoded data removed]",
      "text/plain": [
       "<Figure size 640x480 with 1 Axes>"
      ]
     },
     "metadata": {},
     "output_type": "display_data"
    }
   ],
   "source": [
    "top_product_subcategory = top_product_subcategory.sort_values(by='Sales', ascending=True)\n",
    "\n",
    "# Ploting a bar graph\n",
    "\n",
    "plt.barh(top_product_subcategory['Sub-Category'], top_product_subcategory['Sales'])\n",
    "\n",
    "# Labels\n",
    "plt.title('Top Product Categories Based on Sales')\n",
    "plt.xlabel('Product Sub-Category')\n",
    "plt.ylabel('Total Sales')\n",
    "plt.xticks(rotation=0)\n",
    "\n",
    "plt.show()"
   ]
  },
  {
   "cell_type": "code",
   "execution_count": 37,
   "id": "f0e0f8a4",
   "metadata": {},
   "outputs": [],
   "source": [
    "#Sales \n",
    "\n",
    "df['Order Date'] = pd.to_datetime(df['Order Date'], dayfirst=True)"
   ]
  },
  {
   "cell_type": "code",
   "execution_count": 38,
   "id": "15d27f55",
   "metadata": {},
   "outputs": [
    {
     "name": "stdout",
     "output_type": "stream",
     "text": [
      "<class 'pandas.core.frame.DataFrame'>\n",
      "RangeIndex: 9800 entries, 0 to 9799\n",
      "Data columns (total 18 columns):\n",
      " #   Column         Non-Null Count  Dtype         \n",
      "---  ------         --------------  -----         \n",
      " 0   Row ID         9800 non-null   int64         \n",
      " 1   Order ID       9800 non-null   object        \n",
      " 2   Order Date     9800 non-null   datetime64[ns]\n",
      " 3   Ship Date      9800 non-null   object        \n",
      " 4   Ship Mode      9800 non-null   object        \n",
      " 5   Customer ID    9800 non-null   object        \n",
      " 6   Customer Name  9800 non-null   object        \n",
      " 7   Segment        9800 non-null   object        \n",
      " 8   Country        9800 non-null   object        \n",
      " 9   City           9800 non-null   object        \n",
      " 10  State          9800 non-null   object        \n",
      " 11  Postal Code    9800 non-null   int32         \n",
      " 12  Region         9800 non-null   object        \n",
      " 13  Product ID     9800 non-null   object        \n",
      " 14  Category       9800 non-null   object        \n",
      " 15  Sub-Category   9800 non-null   object        \n",
      " 16  Product Name   9800 non-null   object        \n",
      " 17  Sales          9800 non-null   float64       \n",
      "dtypes: datetime64[ns](1), float64(1), int32(1), int64(1), object(14)\n",
      "memory usage: 1.3+ MB\n"
     ]
    }
   ],
   "source": [
    "df.info()"
   ]
  },
  {
   "cell_type": "code",
   "execution_count": 39,
   "id": "fcce5398",
   "metadata": {},
   "outputs": [
    {
     "name": "stdout",
     "output_type": "stream",
     "text": [
      "   Year  Total Sales\n",
      "0  2015  479856.2081\n",
      "1  2016  459436.0054\n",
      "2  2017  600192.5500\n",
      "3  2018  722052.0192\n"
     ]
    }
   ],
   "source": [
    "# Group the data by years and calculate the total sales amount for each year\n",
    "yearly_sales = df.groupby(df['Order Date'].dt.year)['Sales'].sum()\n",
    "\n",
    "yearly_sales = yearly_sales.reset_index()\n",
    "yearly_sales = yearly_sales.rename(columns={'Order Date': 'Year', 'Sales':'Total Sales'})\n",
    "\n",
    "# Print the total sales for each year\n",
    "print(yearly_sales)"
   ]
  },
  {
   "cell_type": "code",
   "execution_count": 40,
   "id": "c6e7f1b9",
   "metadata": {},
   "outputs": [
    {
     "data": {
      "image/png": "[encoded data removed]",
      "text/plain": [
       "<Figure size 640x480 with 1 Axes>"
      ]
     },
     "metadata": {},
     "output_type": "display_data"
    }
   ],
   "source": [
    "# Ploting a bar graph\n",
    "\n",
    "plt.bar(yearly_sales['Year'], yearly_sales['Total Sales'])\n",
    "\n",
    "# Labels\n",
    "plt.title('Yearly Sales')\n",
    "plt.xlabel('Year')\n",
    "plt.ylabel('Total Sales')\n",
    "plt.xticks(rotation=45)\n",
    "\n",
    "plt.show()"
   ]
  },
  {
   "cell_type": "code",
   "execution_count": 41,
   "id": "1b3d1da9",
   "metadata": {},
   "outputs": [
    {
     "data": {
      "image/png": "[encoded data removed]",
      "text/plain": [
       "<Figure size 640x480 with 1 Axes>"
      ]
     },
     "metadata": {},
     "output_type": "display_data"
    }
   ],
   "source": [
    "# Create a line graph for total sales by year\n",
    "plt.plot(yearly_sales['Year'], yearly_sales['Total Sales'], marker='o', linestyle='-')\n",
    "plt.xlabel('Year')\n",
    "plt.ylabel('Total Sales')\n",
    "plt.title('Total Sales by Year')\n",
    "\n",
    "# Display the plot\n",
    "plt.tight_layout()\n",
    "\n",
    "plt.show()"
   ]
  },
  {
   "cell_type": "code",
   "execution_count": null,
   "id": "c0923425",
   "metadata": {},
   "outputs": [],
   "source": []
  }
 ],
 "metadata": {
  "kernelspec": {
   "display_name": "Python 3 (ipykernel)",
   "language": "python",
   "name": "python3"
  },
  "language_info": {
   "codemirror_mode": {
    "name": "ipython",
    "version": 3
   },
   "file_extension": ".py",
   "mimetype": "text/x-python",
   "name": "python",
   "nbconvert_exporter": "python",
   "pygments_lexer": "ipython3",
   "version": "3.11.5"
  }
 },
 "nbformat": 4,
 "nbformat_minor": 5
}
